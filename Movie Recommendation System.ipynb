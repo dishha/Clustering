{
 "cells": [
  {
   "cell_type": "code",
   "execution_count": 18,
   "metadata": {},
   "outputs": [],
   "source": [
    "import pandas as pd\n",
    "import matplotlib.pyplot as plt\n",
    "import numpy as np\n",
    "from scipy.sparse import csr_matrix"
   ]
  },
  {
   "cell_type": "code",
   "execution_count": 2,
   "metadata": {},
   "outputs": [
    {
     "data": {
      "text/html": [
       "<div>\n",
       "<style scoped>\n",
       "    .dataframe tbody tr th:only-of-type {\n",
       "        vertical-align: middle;\n",
       "    }\n",
       "\n",
       "    .dataframe tbody tr th {\n",
       "        vertical-align: top;\n",
       "    }\n",
       "\n",
       "    .dataframe thead th {\n",
       "        text-align: right;\n",
       "    }\n",
       "</style>\n",
       "<table border=\"1\" class=\"dataframe\">\n",
       "  <thead>\n",
       "    <tr style=\"text-align: right;\">\n",
       "      <th></th>\n",
       "      <th>movieId</th>\n",
       "      <th>title</th>\n",
       "      <th>genres</th>\n",
       "    </tr>\n",
       "  </thead>\n",
       "  <tbody>\n",
       "    <tr>\n",
       "      <th>0</th>\n",
       "      <td>1</td>\n",
       "      <td>Toy Story (1995)</td>\n",
       "      <td>Adventure|Animation|Children|Comedy|Fantasy</td>\n",
       "    </tr>\n",
       "    <tr>\n",
       "      <th>1</th>\n",
       "      <td>2</td>\n",
       "      <td>Jumanji (1995)</td>\n",
       "      <td>Adventure|Children|Fantasy</td>\n",
       "    </tr>\n",
       "    <tr>\n",
       "      <th>2</th>\n",
       "      <td>3</td>\n",
       "      <td>Grumpier Old Men (1995)</td>\n",
       "      <td>Comedy|Romance</td>\n",
       "    </tr>\n",
       "    <tr>\n",
       "      <th>3</th>\n",
       "      <td>4</td>\n",
       "      <td>Waiting to Exhale (1995)</td>\n",
       "      <td>Comedy|Drama|Romance</td>\n",
       "    </tr>\n",
       "    <tr>\n",
       "      <th>4</th>\n",
       "      <td>5</td>\n",
       "      <td>Father of the Bride Part II (1995)</td>\n",
       "      <td>Comedy</td>\n",
       "    </tr>\n",
       "  </tbody>\n",
       "</table>\n",
       "</div>"
      ],
      "text/plain": [
       "   movieId                               title  \\\n",
       "0        1                    Toy Story (1995)   \n",
       "1        2                      Jumanji (1995)   \n",
       "2        3             Grumpier Old Men (1995)   \n",
       "3        4            Waiting to Exhale (1995)   \n",
       "4        5  Father of the Bride Part II (1995)   \n",
       "\n",
       "                                        genres  \n",
       "0  Adventure|Animation|Children|Comedy|Fantasy  \n",
       "1                   Adventure|Children|Fantasy  \n",
       "2                               Comedy|Romance  \n",
       "3                         Comedy|Drama|Romance  \n",
       "4                                       Comedy  "
      ]
     },
     "execution_count": 2,
     "metadata": {},
     "output_type": "execute_result"
    }
   ],
   "source": [
    "movies = pd.read_csv(r'C:\\Users\\hp\\Desktop\\disha\\ml-latest-small/movies.csv')\n",
    "movies.head()"
   ]
  },
  {
   "cell_type": "code",
   "execution_count": 3,
   "metadata": {},
   "outputs": [
    {
     "data": {
      "text/html": [
       "<div>\n",
       "<style scoped>\n",
       "    .dataframe tbody tr th:only-of-type {\n",
       "        vertical-align: middle;\n",
       "    }\n",
       "\n",
       "    .dataframe tbody tr th {\n",
       "        vertical-align: top;\n",
       "    }\n",
       "\n",
       "    .dataframe thead th {\n",
       "        text-align: right;\n",
       "    }\n",
       "</style>\n",
       "<table border=\"1\" class=\"dataframe\">\n",
       "  <thead>\n",
       "    <tr style=\"text-align: right;\">\n",
       "      <th></th>\n",
       "      <th>movieId</th>\n",
       "      <th>imdbId</th>\n",
       "      <th>tmdbId</th>\n",
       "    </tr>\n",
       "  </thead>\n",
       "  <tbody>\n",
       "    <tr>\n",
       "      <th>0</th>\n",
       "      <td>1</td>\n",
       "      <td>114709</td>\n",
       "      <td>862.0</td>\n",
       "    </tr>\n",
       "    <tr>\n",
       "      <th>1</th>\n",
       "      <td>2</td>\n",
       "      <td>113497</td>\n",
       "      <td>8844.0</td>\n",
       "    </tr>\n",
       "    <tr>\n",
       "      <th>2</th>\n",
       "      <td>3</td>\n",
       "      <td>113228</td>\n",
       "      <td>15602.0</td>\n",
       "    </tr>\n",
       "    <tr>\n",
       "      <th>3</th>\n",
       "      <td>4</td>\n",
       "      <td>114885</td>\n",
       "      <td>31357.0</td>\n",
       "    </tr>\n",
       "    <tr>\n",
       "      <th>4</th>\n",
       "      <td>5</td>\n",
       "      <td>113041</td>\n",
       "      <td>11862.0</td>\n",
       "    </tr>\n",
       "  </tbody>\n",
       "</table>\n",
       "</div>"
      ],
      "text/plain": [
       "   movieId  imdbId   tmdbId\n",
       "0        1  114709    862.0\n",
       "1        2  113497   8844.0\n",
       "2        3  113228  15602.0\n",
       "3        4  114885  31357.0\n",
       "4        5  113041  11862.0"
      ]
     },
     "execution_count": 3,
     "metadata": {},
     "output_type": "execute_result"
    }
   ],
   "source": [
    "links = pd.read_csv(r'C:\\Users\\hp\\Desktop\\disha\\ml-latest-small/links.csv')\n",
    "links.head()"
   ]
  },
  {
   "cell_type": "code",
   "execution_count": 4,
   "metadata": {},
   "outputs": [
    {
     "data": {
      "text/html": [
       "<div>\n",
       "<style scoped>\n",
       "    .dataframe tbody tr th:only-of-type {\n",
       "        vertical-align: middle;\n",
       "    }\n",
       "\n",
       "    .dataframe tbody tr th {\n",
       "        vertical-align: top;\n",
       "    }\n",
       "\n",
       "    .dataframe thead th {\n",
       "        text-align: right;\n",
       "    }\n",
       "</style>\n",
       "<table border=\"1\" class=\"dataframe\">\n",
       "  <thead>\n",
       "    <tr style=\"text-align: right;\">\n",
       "      <th></th>\n",
       "      <th>userId</th>\n",
       "      <th>movieId</th>\n",
       "      <th>rating</th>\n",
       "      <th>timestamp</th>\n",
       "    </tr>\n",
       "  </thead>\n",
       "  <tbody>\n",
       "    <tr>\n",
       "      <th>0</th>\n",
       "      <td>1</td>\n",
       "      <td>1</td>\n",
       "      <td>4.0</td>\n",
       "      <td>964982703</td>\n",
       "    </tr>\n",
       "    <tr>\n",
       "      <th>1</th>\n",
       "      <td>1</td>\n",
       "      <td>3</td>\n",
       "      <td>4.0</td>\n",
       "      <td>964981247</td>\n",
       "    </tr>\n",
       "    <tr>\n",
       "      <th>2</th>\n",
       "      <td>1</td>\n",
       "      <td>6</td>\n",
       "      <td>4.0</td>\n",
       "      <td>964982224</td>\n",
       "    </tr>\n",
       "    <tr>\n",
       "      <th>3</th>\n",
       "      <td>1</td>\n",
       "      <td>47</td>\n",
       "      <td>5.0</td>\n",
       "      <td>964983815</td>\n",
       "    </tr>\n",
       "    <tr>\n",
       "      <th>4</th>\n",
       "      <td>1</td>\n",
       "      <td>50</td>\n",
       "      <td>5.0</td>\n",
       "      <td>964982931</td>\n",
       "    </tr>\n",
       "  </tbody>\n",
       "</table>\n",
       "</div>"
      ],
      "text/plain": [
       "   userId  movieId  rating  timestamp\n",
       "0       1        1     4.0  964982703\n",
       "1       1        3     4.0  964981247\n",
       "2       1        6     4.0  964982224\n",
       "3       1       47     5.0  964983815\n",
       "4       1       50     5.0  964982931"
      ]
     },
     "execution_count": 4,
     "metadata": {},
     "output_type": "execute_result"
    }
   ],
   "source": [
    "ratings = pd.read_csv(r'C:\\Users\\hp\\Desktop\\disha\\ml-latest-small/ratings.csv')\n",
    "ratings.head()"
   ]
  },
  {
   "cell_type": "code",
   "execution_count": 5,
   "metadata": {
    "scrolled": true
   },
   "outputs": [
    {
     "data": {
      "text/html": [
       "<div>\n",
       "<style scoped>\n",
       "    .dataframe tbody tr th:only-of-type {\n",
       "        vertical-align: middle;\n",
       "    }\n",
       "\n",
       "    .dataframe tbody tr th {\n",
       "        vertical-align: top;\n",
       "    }\n",
       "\n",
       "    .dataframe thead th {\n",
       "        text-align: right;\n",
       "    }\n",
       "</style>\n",
       "<table border=\"1\" class=\"dataframe\">\n",
       "  <thead>\n",
       "    <tr style=\"text-align: right;\">\n",
       "      <th></th>\n",
       "      <th>userId</th>\n",
       "      <th>movieId</th>\n",
       "      <th>tag</th>\n",
       "      <th>timestamp</th>\n",
       "    </tr>\n",
       "  </thead>\n",
       "  <tbody>\n",
       "    <tr>\n",
       "      <th>0</th>\n",
       "      <td>2</td>\n",
       "      <td>60756</td>\n",
       "      <td>funny</td>\n",
       "      <td>1445714994</td>\n",
       "    </tr>\n",
       "    <tr>\n",
       "      <th>1</th>\n",
       "      <td>2</td>\n",
       "      <td>60756</td>\n",
       "      <td>Highly quotable</td>\n",
       "      <td>1445714996</td>\n",
       "    </tr>\n",
       "    <tr>\n",
       "      <th>2</th>\n",
       "      <td>2</td>\n",
       "      <td>60756</td>\n",
       "      <td>will ferrell</td>\n",
       "      <td>1445714992</td>\n",
       "    </tr>\n",
       "    <tr>\n",
       "      <th>3</th>\n",
       "      <td>2</td>\n",
       "      <td>89774</td>\n",
       "      <td>Boxing story</td>\n",
       "      <td>1445715207</td>\n",
       "    </tr>\n",
       "    <tr>\n",
       "      <th>4</th>\n",
       "      <td>2</td>\n",
       "      <td>89774</td>\n",
       "      <td>MMA</td>\n",
       "      <td>1445715200</td>\n",
       "    </tr>\n",
       "  </tbody>\n",
       "</table>\n",
       "</div>"
      ],
      "text/plain": [
       "   userId  movieId              tag   timestamp\n",
       "0       2    60756            funny  1445714994\n",
       "1       2    60756  Highly quotable  1445714996\n",
       "2       2    60756     will ferrell  1445714992\n",
       "3       2    89774     Boxing story  1445715207\n",
       "4       2    89774              MMA  1445715200"
      ]
     },
     "execution_count": 5,
     "metadata": {},
     "output_type": "execute_result"
    }
   ],
   "source": [
    "tags = pd.read_csv(r'C:\\Users\\hp\\Desktop\\disha\\ml-latest-small/tags.csv')\n",
    "tags.head()"
   ]
  },
  {
   "cell_type": "code",
   "execution_count": 6,
   "metadata": {},
   "outputs": [
    {
     "name": "stdout",
     "output_type": "stream",
     "text": [
      "9742\n",
      "100836\n"
     ]
    }
   ],
   "source": [
    "print(len(movies))\n",
    "print(len(ratings))"
   ]
  },
  {
   "cell_type": "code",
   "execution_count": 7,
   "metadata": {
    "scrolled": true
   },
   "outputs": [],
   "source": [
    "def get_genre_ratings(ratings, movies, genres, column_names):\n",
    "    genre_ratings = pd.DataFrame()\n",
    "    for genre in genres:        \n",
    "        genre_movies = movies[movies['genres'].str.contains(genre) ]\n",
    "        avg_genre_votes_per_user = ratings[ratings['movieId'].isin(genre_movies['movieId'])].loc[:, ['userId', 'rating']].groupby(['userId'])['rating'].mean().round(2)\n",
    "        \n",
    "        genre_ratings = pd.concat([genre_ratings, avg_genre_votes_per_user], axis=1)\n",
    "        \n",
    "    genre_ratings.columns = column_names\n",
    "    return genre_ratings"
   ]
  },
  {
   "cell_type": "code",
   "execution_count": 8,
   "metadata": {},
   "outputs": [
    {
     "data": {
      "text/html": [
       "<div>\n",
       "<style scoped>\n",
       "    .dataframe tbody tr th:only-of-type {\n",
       "        vertical-align: middle;\n",
       "    }\n",
       "\n",
       "    .dataframe tbody tr th {\n",
       "        vertical-align: top;\n",
       "    }\n",
       "\n",
       "    .dataframe thead th {\n",
       "        text-align: right;\n",
       "    }\n",
       "</style>\n",
       "<table border=\"1\" class=\"dataframe\">\n",
       "  <thead>\n",
       "    <tr style=\"text-align: right;\">\n",
       "      <th></th>\n",
       "      <th>avg_drama_rating</th>\n",
       "      <th>avg_romance_rating</th>\n",
       "    </tr>\n",
       "    <tr>\n",
       "      <th>userId</th>\n",
       "      <th></th>\n",
       "      <th></th>\n",
       "    </tr>\n",
       "  </thead>\n",
       "  <tbody>\n",
       "    <tr>\n",
       "      <th>1</th>\n",
       "      <td>4.53</td>\n",
       "      <td>4.31</td>\n",
       "    </tr>\n",
       "    <tr>\n",
       "      <th>2</th>\n",
       "      <td>3.88</td>\n",
       "      <td>4.50</td>\n",
       "    </tr>\n",
       "    <tr>\n",
       "      <th>3</th>\n",
       "      <td>0.75</td>\n",
       "      <td>0.50</td>\n",
       "    </tr>\n",
       "    <tr>\n",
       "      <th>4</th>\n",
       "      <td>3.48</td>\n",
       "      <td>3.38</td>\n",
       "    </tr>\n",
       "    <tr>\n",
       "      <th>5</th>\n",
       "      <td>3.80</td>\n",
       "      <td>3.09</td>\n",
       "    </tr>\n",
       "  </tbody>\n",
       "</table>\n",
       "</div>"
      ],
      "text/plain": [
       "        avg_drama_rating  avg_romance_rating\n",
       "userId                                      \n",
       "1                   4.53                4.31\n",
       "2                   3.88                4.50\n",
       "3                   0.75                0.50\n",
       "4                   3.48                3.38\n",
       "5                   3.80                3.09"
      ]
     },
     "execution_count": 8,
     "metadata": {},
     "output_type": "execute_result"
    }
   ],
   "source": [
    "genre_ratings = get_genre_ratings(ratings, movies, ['Drama', 'Romance'], ['avg_drama_rating', 'avg_romance_rating'])\n",
    "genre_ratings.head()"
   ]
  },
  {
   "cell_type": "code",
   "execution_count": 12,
   "metadata": {},
   "outputs": [],
   "source": [
    "def bias_genre_rating(genre_ratings, score_limit_1, score_limit_2):\n",
    "    biased = genre_ratings[((genre_ratings['avg_drama_rating'] < score_limit_1 - 0.2) & (genre_ratings['avg_romance_rating'] > score_limit_2)) | ((genre_ratings['avg_drama_rating'] < score_limit_1) & (genre_ratings['avg_romance_rating'] > score_limit_2))]\n",
    "    biased = pd.concat([biased[:300], genre_ratings[:2]])\n",
    "    biased = pd.DataFrame(biased.to_records())\n",
    "    return biased_ds"
   ]
  },
  {
   "cell_type": "code",
   "execution_count": 15,
   "metadata": {},
   "outputs": [],
   "source": [
    "biased_ds = bias_genre_rating(genre_ratings, 3.1, 2.2)"
   ]
  },
  {
   "cell_type": "code",
   "execution_count": 26,
   "metadata": {},
   "outputs": [
    {
     "data": {
      "text/plain": [
       "<matplotlib.collections.PathCollection at 0x1baabc27f98>"
      ]
     },
     "execution_count": 26,
     "metadata": {},
     "output_type": "execute_result"
    },
    {
     "data": {
      "image/png": "[encoded data removed]",
      "text/plain": [
       "<Figure size 576x576 with 1 Axes>"
      ]
     },
     "metadata": {
      "needs_background": "light"
     },
     "output_type": "display_data"
    }
   ],
   "source": [
    "%matplotlib inline\n",
    "\n",
    "fig = plt.figure(figsize=(8,8))\n",
    "plt.xlim(0, 5)\n",
    "plt.ylim(0, 5)\n",
    "plt.xlabel('Avg drama rating')\n",
    "plt.ylabel('Avg romance rating')\n",
    "plt.scatter(biased_dataset['avg_drama_rating'], biased_dataset['avg_romance_rating'], s=30)"
   ]
  },
  {
   "cell_type": "markdown",
   "metadata": {},
   "source": [
    "# K Means"
   ]
  },
  {
   "cell_type": "code",
   "execution_count": 27,
   "metadata": {},
   "outputs": [],
   "source": [
    "X = biased_ds[['avg_drama_rating','avg_romance_rating']].values"
   ]
  },
  {
   "cell_type": "code",
   "execution_count": 28,
   "metadata": {},
   "outputs": [],
   "source": [
    "from sklearn.cluster import KMeans "
   ]
  },
  {
   "cell_type": "code",
   "execution_count": 36,
   "metadata": {},
   "outputs": [
    {
     "data": {
      "text/plain": [
       "<matplotlib.collections.PathCollection at 0x1baadaf9828>"
      ]
     },
     "execution_count": 36,
     "metadata": {},
     "output_type": "execute_result"
    },
    {
     "data": {
      "image/png": "[encoded data removed]",
      "text/plain": [
       "<Figure size 576x576 with 1 Axes>"
      ]
     },
     "metadata": {
      "needs_background": "light"
     },
     "output_type": "display_data"
    }
   ],
   "source": [
    "kmeans_1 = KMeans(n_clusters=2)\n",
    "predictions = kmeans_1.fit_predict(X)\n",
    "\n",
    "fig = plt.figure(figsize=(8,8))\n",
    "plt.xlim(0, 5)\n",
    "plt.ylim(0, 5)\n",
    "plt.xlabel('Avg drama rating')\n",
    "plt.ylabel('Avg romance rating')\n",
    "\n",
    "clustered = pd.concat([biased_ds.reset_index(), pd.DataFrame({'group':predictions})], axis=1)\n",
    "plt.scatter(clustered['avg_drama_rating'], clustered['avg_romance_rating'], c=clustered['group'],cmap='viridis')"
   ]
  },
  {
   "cell_type": "code",
   "execution_count": 37,
   "metadata": {},
   "outputs": [
    {
     "data": {
      "text/plain": [
       "<matplotlib.collections.PathCollection at 0x1baadb55278>"
      ]
     },
     "execution_count": 37,
     "metadata": {},
     "output_type": "execute_result"
    },
    {
     "data": {
      "image/png": "[encoded data removed]",
      "text/plain": [
       "<Figure size 576x576 with 1 Axes>"
      ]
     },
     "metadata": {
      "needs_background": "light"
     },
     "output_type": "display_data"
    }
   ],
   "source": [
    "#Create an instance of KMeans to find three clusters\n",
    "kmeans_2 = KMeans(n_clusters=3)\n",
    "\n",
    "# Use fit_predict to cluster the dataset\n",
    "predictions_2 = kmeans_2.fit_predict(X)\n",
    "\n",
    "# Plot\n",
    "fig = plt.figure(figsize=(8,8))\n",
    "plt.xlim(0, 5)\n",
    "plt.ylim(0, 5)\n",
    "plt.xlabel('Avg drama rating')\n",
    "plt.ylabel('Avg romance rating')\n",
    "\n",
    "clustered = pd.concat([biased_ds.reset_index(), pd.DataFrame({'group':predictions_2})], axis=1)\n",
    "plt.scatter(clustered['avg_drama_rating'], clustered['avg_romance_rating'], c=clustered['group'],cmap='viridis')"
   ]
  },
  {
   "cell_type": "markdown",
   "metadata": {},
   "source": [
    "The groups are:\n",
    "\n",
    "1. people who like romance but not drama\n",
    "2. people who like drama but not romance\n",
    "3. people who like both drama and romance"
   ]
  },
  {
   "cell_type": "code",
   "execution_count": 38,
   "metadata": {},
   "outputs": [
    {
     "data": {
      "text/plain": [
       "<matplotlib.collections.PathCollection at 0x1baadba9208>"
      ]
     },
     "execution_count": 38,
     "metadata": {},
     "output_type": "execute_result"
    },
    {
     "data": {
      "image/png": "[encoded data removed]",
      "text/plain": [
       "<Figure size 576x576 with 1 Axes>"
      ]
     },
     "metadata": {
      "needs_background": "light"
     },
     "output_type": "display_data"
    }
   ],
   "source": [
    "#Create an instance of KMeans to find three clusters\n",
    "kmeans_3 = KMeans(n_clusters=4)\n",
    "\n",
    "# Use fit_predict to cluster the dataset\n",
    "predictions_3 = kmeans_3.fit_predict(X)\n",
    "\n",
    "# Plot\n",
    "fig = plt.figure(figsize=(8,8))\n",
    "plt.xlim(0, 5)\n",
    "plt.ylim(0, 5)\n",
    "plt.xlabel('Avg drama rating')\n",
    "plt.ylabel('Avg romance rating')\n",
    "\n",
    "clustered = pd.concat([biased_ds.reset_index(), pd.DataFrame({'group':predictions_3})], axis=1)\n",
    "plt.scatter(clustered['avg_drama_rating'], clustered['avg_romance_rating'], c=clustered['group'],cmap='viridis')"
   ]
  },
  {
   "cell_type": "markdown",
   "metadata": {},
   "source": [
    "# elbow method to find the optimal number of clusters for k means "
   ]
  },
  {
   "cell_type": "markdown",
   "metadata": {},
   "source": [
    "The idea of the elbow method is to run k-means clustering on the dataset for a range of values of k (say, k from 1 to 4 in the examples above), and for each value of k calculate the sum of squared errors (SSE)."
   ]
  },
  {
   "cell_type": "code",
   "execution_count": 42,
   "metadata": {},
   "outputs": [],
   "source": [
    "from sklearn.metrics import silhouette_samples, silhouette_score\n",
    "\n",
    "def clustering_errors(k, data):\n",
    "    kmeans = KMeans(n_clusters=k).fit(data)\n",
    "    predictions = kmeans.predict(data)\n",
    "    silhouette_avg = silhouette_score(data, predictions)\n",
    "    return silhouette_avg"
   ]
  },
  {
   "cell_type": "markdown",
   "metadata": {},
   "source": [
    "silhouette clustering coefficient \n",
    "1. To study the separation distance between the resulting clusters\n",
    "2. Displays a measure of how close each point in one cluster is to points in the neighboring clusters and thus provides a way to assess parameters like number of clusters visually. This measure has a range of [-1, 1]\n"
   ]
  },
  {
   "cell_type": "code",
   "execution_count": 49,
   "metadata": {},
   "outputs": [],
   "source": [
    "possible_k = range(2, len(X)+1, 2)\n",
    "\n",
    "errors_per_k = [clustering_errors(k, X) for k in possible_k]"
   ]
  },
  {
   "cell_type": "code",
   "execution_count": 50,
   "metadata": {},
   "outputs": [
    {
     "data": {
      "text/plain": [
       "[(2, 0.4478413564792977),\n",
       " (4, 0.504612637195858),\n",
       " (6, 0.4422190739083968),\n",
       " (8, 0.40344314682553695),\n",
       " (10, 0.3887924327846598),\n",
       " (12, 0.3812264994424525),\n",
       " (14, 0.3519237763506067),\n",
       " (16, 0.3449962329335893),\n",
       " (18, 0.3666482813203005),\n",
       " (20, 0.3640535609501054),\n",
       " (22, 0.3847567503904421),\n",
       " (24, 0.37594635523106185),\n",
       " (26, 0.381901994328052),\n",
       " (28, 0.36210674904558326),\n",
       " (30, 0.3309744680921408),\n",
       " (32, 0.3079882450357358),\n",
       " (34, 0.286108898163878),\n",
       " (36, 0.2467697941085003),\n",
       " (38, 0.23736109875070427),\n",
       " (40, 0.1970439346910581),\n",
       " (42, 0.16759087690090346),\n",
       " (44, 0.15093239218816568),\n",
       " (46, 0.1106423883659557),\n",
       " (48, 0.07656715574492001),\n",
       " (50, 0.04)]"
      ]
     },
     "execution_count": 50,
     "metadata": {},
     "output_type": "execute_result"
    }
   ],
   "source": [
    "list(zip(possible_k, errors_per_k))"
   ]
  },
  {
   "cell_type": "code",
   "execution_count": 55,
   "metadata": {},
   "outputs": [
    {
     "data": {
      "image/png": "[encoded data removed]",
      "text/plain": [
       "<Figure size 1152x432 with 1 Axes>"
      ]
     },
     "metadata": {
      "needs_background": "light"
     },
     "output_type": "display_data"
    }
   ],
   "source": [
    "# Plot the each value of K vs. the silhouette score at that value\n",
    "fig, ax = plt.subplots(figsize=(16, 6))\n",
    "ax.set_xlabel('K - number of clusters')\n",
    "ax.set_ylabel('Silhouette Score (higher is better)')\n",
    "ax.plot(possible_k, errors_per_k)\n",
    "\n",
    "# Ticks and grid\n",
    "xticks = np.arange(min(possible_k), max(possible_k)+1, 2.0)\n",
    "ax.set_xticks(xticks, minor=False)\n",
    "ax.set_xticks(xticks, minor=True)\n",
    "ax.xaxis.grid(True, which='both')\n",
    "yticks = np.arange(round(min(errors_per_k), 2), max(errors_per_k), .05)\n",
    "ax.set_yticks(yticks, minor=False)\n",
    "ax.set_yticks(yticks, minor=True)\n",
    "ax.yaxis.grid(True, which='both')"
   ]
  },
  {
   "cell_type": "markdown",
   "metadata": {},
   "source": [
    "Thus, k = 4 is the optimal no of clusters"
   ]
  },
  {
   "cell_type": "markdown",
   "metadata": {},
   "source": [
    "# Clustering - movies"
   ]
  },
  {
   "cell_type": "code",
   "execution_count": 57,
   "metadata": {},
   "outputs": [
    {
     "name": "stdout",
     "output_type": "stream",
     "text": [
      "dataset dimensions:  (610, 9719) \n",
      "\n",
      "Subset example:\n"
     ]
    },
    {
     "data": {
      "text/html": [
       "<div>\n",
       "<style scoped>\n",
       "    .dataframe tbody tr th:only-of-type {\n",
       "        vertical-align: middle;\n",
       "    }\n",
       "\n",
       "    .dataframe tbody tr th {\n",
       "        vertical-align: top;\n",
       "    }\n",
       "\n",
       "    .dataframe thead th {\n",
       "        text-align: right;\n",
       "    }\n",
       "</style>\n",
       "<table border=\"1\" class=\"dataframe\">\n",
       "  <thead>\n",
       "    <tr style=\"text-align: right;\">\n",
       "      <th>title</th>\n",
       "      <th>'71 (2014)</th>\n",
       "      <th>'Hellboy': The Seeds of Creation (2004)</th>\n",
       "      <th>'Round Midnight (1986)</th>\n",
       "      <th>'Salem's Lot (2004)</th>\n",
       "      <th>'Til There Was You (1997)</th>\n",
       "      <th>'Tis the Season for Love (2015)</th>\n",
       "      <th>'burbs, The (1989)</th>\n",
       "      <th>'night Mother (1986)</th>\n",
       "      <th>(500) Days of Summer (2009)</th>\n",
       "      <th>*batteries not included (1987)</th>\n",
       "    </tr>\n",
       "    <tr>\n",
       "      <th>userId</th>\n",
       "      <th></th>\n",
       "      <th></th>\n",
       "      <th></th>\n",
       "      <th></th>\n",
       "      <th></th>\n",
       "      <th></th>\n",
       "      <th></th>\n",
       "      <th></th>\n",
       "      <th></th>\n",
       "      <th></th>\n",
       "    </tr>\n",
       "  </thead>\n",
       "  <tbody>\n",
       "    <tr>\n",
       "      <th>1</th>\n",
       "      <td>NaN</td>\n",
       "      <td>NaN</td>\n",
       "      <td>NaN</td>\n",
       "      <td>NaN</td>\n",
       "      <td>NaN</td>\n",
       "      <td>NaN</td>\n",
       "      <td>NaN</td>\n",
       "      <td>NaN</td>\n",
       "      <td>NaN</td>\n",
       "      <td>NaN</td>\n",
       "    </tr>\n",
       "    <tr>\n",
       "      <th>2</th>\n",
       "      <td>NaN</td>\n",
       "      <td>NaN</td>\n",
       "      <td>NaN</td>\n",
       "      <td>NaN</td>\n",
       "      <td>NaN</td>\n",
       "      <td>NaN</td>\n",
       "      <td>NaN</td>\n",
       "      <td>NaN</td>\n",
       "      <td>NaN</td>\n",
       "      <td>NaN</td>\n",
       "    </tr>\n",
       "    <tr>\n",
       "      <th>3</th>\n",
       "      <td>NaN</td>\n",
       "      <td>NaN</td>\n",
       "      <td>NaN</td>\n",
       "      <td>NaN</td>\n",
       "      <td>NaN</td>\n",
       "      <td>NaN</td>\n",
       "      <td>NaN</td>\n",
       "      <td>NaN</td>\n",
       "      <td>NaN</td>\n",
       "      <td>NaN</td>\n",
       "    </tr>\n",
       "    <tr>\n",
       "      <th>4</th>\n",
       "      <td>NaN</td>\n",
       "      <td>NaN</td>\n",
       "      <td>NaN</td>\n",
       "      <td>NaN</td>\n",
       "      <td>NaN</td>\n",
       "      <td>NaN</td>\n",
       "      <td>NaN</td>\n",
       "      <td>NaN</td>\n",
       "      <td>NaN</td>\n",
       "      <td>NaN</td>\n",
       "    </tr>\n",
       "    <tr>\n",
       "      <th>5</th>\n",
       "      <td>NaN</td>\n",
       "      <td>NaN</td>\n",
       "      <td>NaN</td>\n",
       "      <td>NaN</td>\n",
       "      <td>NaN</td>\n",
       "      <td>NaN</td>\n",
       "      <td>NaN</td>\n",
       "      <td>NaN</td>\n",
       "      <td>NaN</td>\n",
       "      <td>NaN</td>\n",
       "    </tr>\n",
       "    <tr>\n",
       "      <th>6</th>\n",
       "      <td>NaN</td>\n",
       "      <td>NaN</td>\n",
       "      <td>NaN</td>\n",
       "      <td>NaN</td>\n",
       "      <td>NaN</td>\n",
       "      <td>NaN</td>\n",
       "      <td>NaN</td>\n",
       "      <td>NaN</td>\n",
       "      <td>NaN</td>\n",
       "      <td>NaN</td>\n",
       "    </tr>\n",
       "  </tbody>\n",
       "</table>\n",
       "</div>"
      ],
      "text/plain": [
       "title   '71 (2014)  'Hellboy': The Seeds of Creation (2004)  \\\n",
       "userId                                                        \n",
       "1              NaN                                      NaN   \n",
       "2              NaN                                      NaN   \n",
       "3              NaN                                      NaN   \n",
       "4              NaN                                      NaN   \n",
       "5              NaN                                      NaN   \n",
       "6              NaN                                      NaN   \n",
       "\n",
       "title   'Round Midnight (1986)  'Salem's Lot (2004)  \\\n",
       "userId                                                \n",
       "1                          NaN                  NaN   \n",
       "2                          NaN                  NaN   \n",
       "3                          NaN                  NaN   \n",
       "4                          NaN                  NaN   \n",
       "5                          NaN                  NaN   \n",
       "6                          NaN                  NaN   \n",
       "\n",
       "title   'Til There Was You (1997)  'Tis the Season for Love (2015)  \\\n",
       "userId                                                               \n",
       "1                             NaN                              NaN   \n",
       "2                             NaN                              NaN   \n",
       "3                             NaN                              NaN   \n",
       "4                             NaN                              NaN   \n",
       "5                             NaN                              NaN   \n",
       "6                             NaN                              NaN   \n",
       "\n",
       "title   'burbs, The (1989)  'night Mother (1986)  (500) Days of Summer (2009)  \\\n",
       "userId                                                                          \n",
       "1                      NaN                   NaN                          NaN   \n",
       "2                      NaN                   NaN                          NaN   \n",
       "3                      NaN                   NaN                          NaN   \n",
       "4                      NaN                   NaN                          NaN   \n",
       "5                      NaN                   NaN                          NaN   \n",
       "6                      NaN                   NaN                          NaN   \n",
       "\n",
       "title   *batteries not included (1987)  \n",
       "userId                                  \n",
       "1                                  NaN  \n",
       "2                                  NaN  \n",
       "3                                  NaN  \n",
       "4                                  NaN  \n",
       "5                                  NaN  \n",
       "6                                  NaN  "
      ]
     },
     "execution_count": 57,
     "metadata": {},
     "output_type": "execute_result"
    }
   ],
   "source": [
    "# Merge the two tables then pivot so we have Users X Movies dataframe\n",
    "ratings_title = pd.merge(ratings, movies[['movieId', 'title']], on='movieId' )\n",
    "user_movie_ratings = pd.pivot_table(ratings_title, index='userId', columns= 'title', values='rating')\n",
    "\n",
    "print('dataset dimensions: ', user_movie_ratings.shape, '\\n\\nSubset example:')\n",
    "user_movie_ratings.iloc[:6, :10]"
   ]
  },
  {
   "cell_type": "markdown",
   "metadata": {},
   "source": [
    "nan : shows most users have not rated the movies"
   ]
  },
  {
   "cell_type": "code",
   "execution_count": 65,
   "metadata": {},
   "outputs": [],
   "source": [
    "def get_most_rated_movies(user_movie_ratings, max_number_of_movies):\n",
    "    # 1- Count\n",
    "    user_movie_ratings = user_movie_ratings.append(user_movie_ratings.count(), ignore_index=True)\n",
    "    # 2- sort\n",
    "    user_movie_ratings_sorted = user_movie_ratings.sort_values(len(user_movie_ratings)-1, axis=1, ascending=False)\n",
    "    user_movie_ratings_sorted = user_movie_ratings_sorted.drop(user_movie_ratings_sorted.tail(1).index)\n",
    "    # 3- slice\n",
    "    most_rated_movies = user_movie_ratings_sorted.iloc[:, :max_number_of_movies]\n",
    "    return most_rated_movies\n",
    "\n",
    "def get_users_who_rate_the_most(most_rated_movies, max_number_of_movies):\n",
    "    # Get most voting users\n",
    "    # 1- Count\n",
    "    most_rated_movies['counts'] = pd.Series(most_rated_movies.count(axis=1))\n",
    "    # 2- Sort\n",
    "    most_rated_movies_users = most_rated_movies.sort_values('counts', ascending=False)\n",
    "    # 3- Slice\n",
    "    most_rated_movies_users_selection = most_rated_movies_users.iloc[:max_number_of_movies, :]\n",
    "    most_rated_movies_users_selection = most_rated_movies_users_selection.drop(['counts'], axis=1)\n",
    "    \n",
    "    return most_rated_movies_users_selection\n",
    "\n",
    "def sort_by_rating_density(user_movie_ratings, n_movies, n_users):\n",
    "    most_rated_movies = get_most_rated_movies(user_movie_ratings, n_movies)\n",
    "    most_rated_movies = get_users_who_rate_the_most(most_rated_movies, n_users)\n",
    "    return most_rated_movies"
   ]
  },
  {
   "cell_type": "code",
   "execution_count": 68,
   "metadata": {},
   "outputs": [
    {
     "data": {
      "text/html": [
       "<div>\n",
       "<style scoped>\n",
       "    .dataframe tbody tr th:only-of-type {\n",
       "        vertical-align: middle;\n",
       "    }\n",
       "\n",
       "    .dataframe tbody tr th {\n",
       "        vertical-align: top;\n",
       "    }\n",
       "\n",
       "    .dataframe thead th {\n",
       "        text-align: right;\n",
       "    }\n",
       "</style>\n",
       "<table border=\"1\" class=\"dataframe\">\n",
       "  <thead>\n",
       "    <tr style=\"text-align: right;\">\n",
       "      <th>title</th>\n",
       "      <th>Forrest Gump (1994)</th>\n",
       "      <th>Shawshank Redemption, The (1994)</th>\n",
       "      <th>Pulp Fiction (1994)</th>\n",
       "      <th>Silence of the Lambs, The (1991)</th>\n",
       "      <th>Matrix, The (1999)</th>\n",
       "      <th>Star Wars: Episode IV - A New Hope (1977)</th>\n",
       "      <th>Jurassic Park (1993)</th>\n",
       "      <th>Braveheart (1995)</th>\n",
       "      <th>Terminator 2: Judgment Day (1991)</th>\n",
       "      <th>Schindler's List (1993)</th>\n",
       "      <th>...</th>\n",
       "      <th>Star Wars: Episode VI - Return of the Jedi (1983)</th>\n",
       "      <th>Godfather, The (1972)</th>\n",
       "      <th>Fugitive, The (1993)</th>\n",
       "      <th>Batman (1989)</th>\n",
       "      <th>Saving Private Ryan (1998)</th>\n",
       "      <th>Lord of the Rings: The Two Towers, The (2002)</th>\n",
       "      <th>Lord of the Rings: The Return of the King, The (2003)</th>\n",
       "      <th>Aladdin (1992)</th>\n",
       "      <th>Fargo (1996)</th>\n",
       "      <th>Sixth Sense, The (1999)</th>\n",
       "    </tr>\n",
       "  </thead>\n",
       "  <tbody>\n",
       "    <tr>\n",
       "      <th>611</th>\n",
       "      <td>330.0</td>\n",
       "      <td>318.0</td>\n",
       "      <td>308.0</td>\n",
       "      <td>280.0</td>\n",
       "      <td>279.0</td>\n",
       "      <td>252.0</td>\n",
       "      <td>239.0</td>\n",
       "      <td>238.0</td>\n",
       "      <td>225.0</td>\n",
       "      <td>221.0</td>\n",
       "      <td>...</td>\n",
       "      <td>197.0</td>\n",
       "      <td>193.0</td>\n",
       "      <td>191.0</td>\n",
       "      <td>190.0</td>\n",
       "      <td>189.0</td>\n",
       "      <td>189.0</td>\n",
       "      <td>186.0</td>\n",
       "      <td>184.0</td>\n",
       "      <td>182.0</td>\n",
       "      <td>180.0</td>\n",
       "    </tr>\n",
       "    <tr>\n",
       "      <th>67</th>\n",
       "      <td>3.5</td>\n",
       "      <td>3.0</td>\n",
       "      <td>2.0</td>\n",
       "      <td>3.5</td>\n",
       "      <td>4.5</td>\n",
       "      <td>5.0</td>\n",
       "      <td>3.5</td>\n",
       "      <td>2.5</td>\n",
       "      <td>3.5</td>\n",
       "      <td>4.0</td>\n",
       "      <td>...</td>\n",
       "      <td>5.0</td>\n",
       "      <td>4.0</td>\n",
       "      <td>4.5</td>\n",
       "      <td>4.0</td>\n",
       "      <td>4.0</td>\n",
       "      <td>4.0</td>\n",
       "      <td>4.5</td>\n",
       "      <td>3.5</td>\n",
       "      <td>2.5</td>\n",
       "      <td>2.5</td>\n",
       "    </tr>\n",
       "    <tr>\n",
       "      <th>610</th>\n",
       "      <td>329.0</td>\n",
       "      <td>317.0</td>\n",
       "      <td>307.0</td>\n",
       "      <td>279.0</td>\n",
       "      <td>278.0</td>\n",
       "      <td>251.0</td>\n",
       "      <td>238.0</td>\n",
       "      <td>237.0</td>\n",
       "      <td>224.0</td>\n",
       "      <td>220.0</td>\n",
       "      <td>...</td>\n",
       "      <td>196.0</td>\n",
       "      <td>192.0</td>\n",
       "      <td>190.0</td>\n",
       "      <td>189.0</td>\n",
       "      <td>188.0</td>\n",
       "      <td>188.0</td>\n",
       "      <td>185.0</td>\n",
       "      <td>183.0</td>\n",
       "      <td>181.0</td>\n",
       "      <td>179.0</td>\n",
       "    </tr>\n",
       "    <tr>\n",
       "      <th>589</th>\n",
       "      <td>5.0</td>\n",
       "      <td>4.5</td>\n",
       "      <td>4.5</td>\n",
       "      <td>3.5</td>\n",
       "      <td>4.0</td>\n",
       "      <td>5.0</td>\n",
       "      <td>4.0</td>\n",
       "      <td>4.0</td>\n",
       "      <td>4.5</td>\n",
       "      <td>5.0</td>\n",
       "      <td>...</td>\n",
       "      <td>4.5</td>\n",
       "      <td>5.0</td>\n",
       "      <td>4.0</td>\n",
       "      <td>3.5</td>\n",
       "      <td>4.0</td>\n",
       "      <td>5.0</td>\n",
       "      <td>4.5</td>\n",
       "      <td>4.0</td>\n",
       "      <td>4.0</td>\n",
       "      <td>3.5</td>\n",
       "    </tr>\n",
       "    <tr>\n",
       "      <th>479</th>\n",
       "      <td>5.0</td>\n",
       "      <td>5.0</td>\n",
       "      <td>4.0</td>\n",
       "      <td>4.5</td>\n",
       "      <td>5.0</td>\n",
       "      <td>4.5</td>\n",
       "      <td>5.0</td>\n",
       "      <td>5.0</td>\n",
       "      <td>4.5</td>\n",
       "      <td>5.0</td>\n",
       "      <td>...</td>\n",
       "      <td>3.5</td>\n",
       "      <td>5.0</td>\n",
       "      <td>3.5</td>\n",
       "      <td>4.5</td>\n",
       "      <td>4.5</td>\n",
       "      <td>4.5</td>\n",
       "      <td>4.0</td>\n",
       "      <td>4.0</td>\n",
       "      <td>4.0</td>\n",
       "      <td>4.0</td>\n",
       "    </tr>\n",
       "  </tbody>\n",
       "</table>\n",
       "<p>5 rows × 30 columns</p>\n",
       "</div>"
      ],
      "text/plain": [
       "title  Forrest Gump (1994)  Shawshank Redemption, The (1994)  \\\n",
       "611                  330.0                             318.0   \n",
       "67                     3.5                               3.0   \n",
       "610                  329.0                             317.0   \n",
       "589                    5.0                               4.5   \n",
       "479                    5.0                               5.0   \n",
       "\n",
       "title  Pulp Fiction (1994)  Silence of the Lambs, The (1991)  \\\n",
       "611                  308.0                             280.0   \n",
       "67                     2.0                               3.5   \n",
       "610                  307.0                             279.0   \n",
       "589                    4.5                               3.5   \n",
       "479                    4.0                               4.5   \n",
       "\n",
       "title  Matrix, The (1999)  Star Wars: Episode IV - A New Hope (1977)  \\\n",
       "611                 279.0                                      252.0   \n",
       "67                    4.5                                        5.0   \n",
       "610                 278.0                                      251.0   \n",
       "589                   4.0                                        5.0   \n",
       "479                   5.0                                        4.5   \n",
       "\n",
       "title  Jurassic Park (1993)  Braveheart (1995)  \\\n",
       "611                   239.0              238.0   \n",
       "67                      3.5                2.5   \n",
       "610                   238.0              237.0   \n",
       "589                     4.0                4.0   \n",
       "479                     5.0                5.0   \n",
       "\n",
       "title  Terminator 2: Judgment Day (1991)  Schindler's List (1993)  \\\n",
       "611                                225.0                    221.0   \n",
       "67                                   3.5                      4.0   \n",
       "610                                224.0                    220.0   \n",
       "589                                  4.5                      5.0   \n",
       "479                                  4.5                      5.0   \n",
       "\n",
       "title           ...             \\\n",
       "611             ...              \n",
       "67              ...              \n",
       "610             ...              \n",
       "589             ...              \n",
       "479             ...              \n",
       "\n",
       "title  Star Wars: Episode VI - Return of the Jedi (1983)  \\\n",
       "611                                                197.0   \n",
       "67                                                   5.0   \n",
       "610                                                196.0   \n",
       "589                                                  4.5   \n",
       "479                                                  3.5   \n",
       "\n",
       "title  Godfather, The (1972)  Fugitive, The (1993)  Batman (1989)  \\\n",
       "611                    193.0                 191.0          190.0   \n",
       "67                       4.0                   4.5            4.0   \n",
       "610                    192.0                 190.0          189.0   \n",
       "589                      5.0                   4.0            3.5   \n",
       "479                      5.0                   3.5            4.5   \n",
       "\n",
       "title  Saving Private Ryan (1998)  \\\n",
       "611                         189.0   \n",
       "67                            4.0   \n",
       "610                         188.0   \n",
       "589                           4.0   \n",
       "479                           4.5   \n",
       "\n",
       "title  Lord of the Rings: The Two Towers, The (2002)  \\\n",
       "611                                            189.0   \n",
       "67                                               4.0   \n",
       "610                                            188.0   \n",
       "589                                              5.0   \n",
       "479                                              4.5   \n",
       "\n",
       "title  Lord of the Rings: The Return of the King, The (2003)  Aladdin (1992)  \\\n",
       "611                                                186.0               184.0   \n",
       "67                                                   4.5                 3.5   \n",
       "610                                                185.0               183.0   \n",
       "589                                                  4.5                 4.0   \n",
       "479                                                  4.0                 4.0   \n",
       "\n",
       "title  Fargo (1996)  Sixth Sense, The (1999)  \n",
       "611           182.0                    180.0  \n",
       "67              2.5                      2.5  \n",
       "610           181.0                    179.0  \n",
       "589             4.0                      3.5  \n",
       "479             4.0                      4.0  \n",
       "\n",
       "[5 rows x 30 columns]"
      ]
     },
     "execution_count": 68,
     "metadata": {},
     "output_type": "execute_result"
    }
   ],
   "source": [
    "n_movies = 30\n",
    "n_users = 18\n",
    "most_rated_movies_users_selection = sort_by_rating_density(user_movie_ratings, n_movies, n_users)\n",
    "\n",
    "most_rated_movies_users_selection.head()"
   ]
  },
  {
   "cell_type": "code",
   "execution_count": 70,
   "metadata": {},
   "outputs": [],
   "source": [
    "user_movie_ratings =  pd.pivot_table(ratings_title, index='userId', columns= 'title', values='rating')\n",
    "most_rated_movies_1k = get_most_rated_movies(user_movie_ratings, 1000)"
   ]
  },
  {
   "cell_type": "code",
   "execution_count": 71,
   "metadata": {},
   "outputs": [],
   "source": [
    "sparse_ratings = csr_matrix(pd.SparseDataFrame(most_rated_movies_1k).to_coo())"
   ]
  },
  {
   "cell_type": "code",
   "execution_count": 72,
   "metadata": {},
   "outputs": [],
   "source": [
    "pred = KMeans(n_clusters=20, algorithm='full').fit_predict(sparse_ratings)"
   ]
  },
  {
   "cell_type": "code",
   "execution_count": 77,
   "metadata": {},
   "outputs": [],
   "source": [
    "from mpl_toolkits.axes_grid1 import make_axes_locatable\n",
    "\n",
    "def movie_clusters(clustered, max_users, max_movies):\n",
    "    c=1\n",
    "    for cluster_id in clustered.group.unique():\n",
    "        # To improve visibility, we're showing at most max_users users and max_movies movies per cluster.\n",
    "        # You can change these values to see more users & movies per cluster\n",
    "        d = clustered[clustered.group == cluster_id].drop(['index', 'group'], axis=1)\n",
    "        n_users_in_cluster = d.shape[0]\n",
    "        \n",
    "        d = sort_by_rating_density(d, max_movies, max_users)\n",
    "        \n",
    "        d = d.reindex_axis(d.mean().sort_values(ascending=False).index, axis=1)\n",
    "        d = d.reindex_axis(d.count(axis=1).sort_values(ascending=False).index)\n",
    "        d = d.iloc[:max_users, :max_movies]\n",
    "        n_users_in_plot = d.shape[0]\n",
    "        \n",
    "        # We're only selecting to show clusters that have more than 9 users, otherwise, they're less interesting\n",
    "        if len(d) > 9:\n",
    "            print('cluster # {}'.format(cluster_id))\n",
    "            print('# of users in cluster: {}.'.format(n_users_in_cluster), '# of users in plot: {}'.format(n_users_in_plot))\n",
    "            fig = plt.figure(figsize=(15,4))\n",
    "            ax = plt.gca()\n",
    "\n",
    "            ax.invert_yaxis()\n",
    "            ax.xaxis.tick_top()\n",
    "            labels = d.columns.str[:40]\n",
    "\n",
    "            ax.set_yticks(np.arange(d.shape[0]) , minor=False)\n",
    "            ax.set_xticks(np.arange(d.shape[1]) , minor=False)\n",
    "\n",
    "            ax.set_xticklabels(labels, minor=False)\n",
    "                        \n",
    "            ax.get_yaxis().set_visible(False)\n",
    "\n",
    "            # Heatmap\n",
    "            heatmap = plt.imshow(d, vmin=0, vmax=5, aspect='auto')\n",
    "\n",
    "            ax.set_xlabel('movies')\n",
    "            ax.set_ylabel('User id')\n",
    "\n",
    "            divider = make_axes_locatable(ax)\n",
    "            cax = divider.append_axes(\"right\", size=\"5%\", pad=0.05)\n",
    "\n",
    "            # Color bar\n",
    "            cbar = fig.colorbar(heatmap, ticks=[5, 4, 3, 2, 1, 0], cax=cax)\n",
    "            cbar.ax.set_yticklabels(['5 stars', '4 stars','3 stars','2 stars','1 stars','0 stars'])\n",
    "\n",
    "            plt.setp(ax.get_xticklabels(), rotation=90, fontsize=9)\n",
    "            plt.tick_params(axis='both', which='both', bottom='off', top='off', left='off', labelbottom='off', labelleft='off') \n",
    "            #print('cluster # {} \\n(Showing at most {} users and {} movies)'.format(cluster_id, max_users, max_movies))\n",
    "\n",
    "            plt.show()"
   ]
  },
  {
   "cell_type": "code",
   "execution_count": 78,
   "metadata": {},
   "outputs": [
    {
     "name": "stderr",
     "output_type": "stream",
     "text": [
      "C:\\Users\\Hp\\Anaconda3\\lib\\site-packages\\ipykernel_launcher.py:13: FutureWarning: '.reindex_axis' is deprecated and will be removed in a future version. Use '.reindex' instead.\n",
      "  del sys.path[0]\n",
      "C:\\Users\\Hp\\Anaconda3\\lib\\site-packages\\ipykernel_launcher.py:14: FutureWarning: '.reindex_axis' is deprecated and will be removed in a future version. Use '.reindex' instead.\n",
      "  \n",
      "C:\\Users\\Hp\\Anaconda3\\lib\\site-packages\\matplotlib\\cbook\\deprecation.py:107: MatplotlibDeprecationWarning: Passing one of 'on', 'true', 'off', 'false' as a boolean is deprecated; use an actual boolean (True/False) instead.\n",
      "  warnings.warn(message, mplDeprecation, stacklevel=1)\n"
     ]
    },
    {
     "name": "stdout",
     "output_type": "stream",
     "text": [
      "cluster # 0.0\n",
      "# of users in cluster: 31. # of users in plot: 31\n"
     ]
    },
    {
     "data": {
      "image/png": "[encoded data removed]",
      "text/plain": [
       "<Figure size 1080x288 with 2 Axes>"
      ]
     },
     "metadata": {
      "needs_background": "light"
     },
     "output_type": "display_data"
    },
    {
     "name": "stdout",
     "output_type": "stream",
     "text": [
      "cluster # 1.0\n",
      "# of users in cluster: 19. # of users in plot: 19\n"
     ]
    },
    {
     "data": {
      "image/png": "[encoded data removed]",
      "text/plain": [
       "<Figure size 1080x288 with 2 Axes>"
      ]
     },
     "metadata": {
      "needs_background": "light"
     },
     "output_type": "display_data"
    }
   ],
   "source": [
    "max_users = 70\n",
    "max_movies = 50\n",
    "\n",
    "clustered = pd.concat([most_rated_movies_1k.reset_index(), pd.DataFrame({'group':predictions})], axis=1)\n",
    "movie_clusters(clustered, max_users, max_movies)"
   ]
  },
  {
   "cell_type": "markdown",
   "metadata": {},
   "source": [
    "The color of the cell is how the user rated that movie based on the scale on the right of the graph.\n",
    "\n",
    "1. white cells indicates that the user did not review\n",
    "2. The more similar the ratings in a cluster are, the more vertical lines in similar colors you'll be able to trace in that cluster.\n",
    "3. the horizontal lines with similar colors indicate these are users without a lot of variety in their ratings.\n",
    "4. Some clusters are mostly yellow and bring together people who really love a certain group of movies. \n",
    "5. green or blue clusters mean they contain people who agree that a certain set of movies deserves 2-3 stars."
   ]
  },
  {
   "cell_type": "code",
   "execution_count": 87,
   "metadata": {},
   "outputs": [],
   "source": [
    "# TODO: Pick a cluster ID from the clusters above\n",
    "cluster_number = 1\n",
    "\n",
    "# Let's filter to only see the region of the dataset with the most number of values \n",
    "n_users = 75\n",
    "n_movies = 300\n",
    "cluster = clustered[clustered.group == cluster_number].drop(['index', 'group'], axis=1)\n",
    "\n",
    "cluster = sort_by_rating_density(cluster, n_movies, n_users)"
   ]
  },
  {
   "cell_type": "code",
   "execution_count": 88,
   "metadata": {},
   "outputs": [
    {
     "data": {
      "text/html": [
       "<div>\n",
       "<style scoped>\n",
       "    .dataframe tbody tr th:only-of-type {\n",
       "        vertical-align: middle;\n",
       "    }\n",
       "\n",
       "    .dataframe tbody tr th {\n",
       "        vertical-align: top;\n",
       "    }\n",
       "\n",
       "    .dataframe thead th {\n",
       "        text-align: right;\n",
       "    }\n",
       "</style>\n",
       "<table border=\"1\" class=\"dataframe\">\n",
       "  <thead>\n",
       "    <tr style=\"text-align: right;\">\n",
       "      <th></th>\n",
       "      <th>Forrest Gump (1994)</th>\n",
       "      <th>Pulp Fiction (1994)</th>\n",
       "      <th>Shawshank Redemption, The (1994)</th>\n",
       "      <th>Aladdin (1992)</th>\n",
       "      <th>Silence of the Lambs, The (1991)</th>\n",
       "      <th>Lion King, The (1994)</th>\n",
       "      <th>Twelve Monkeys (a.k.a. 12 Monkeys) (1995)</th>\n",
       "      <th>Toy Story (1995)</th>\n",
       "      <th>Usual Suspects, The (1995)</th>\n",
       "      <th>Batman (1989)</th>\n",
       "      <th>...</th>\n",
       "      <th>Frequency (2000)</th>\n",
       "      <th>Sister Act (1992)</th>\n",
       "      <th>Planet of the Apes (2001)</th>\n",
       "      <th>Fisher King, The (1991)</th>\n",
       "      <th>Chicago (2002)</th>\n",
       "      <th>Skyfall (2012)</th>\n",
       "      <th>Mad Max: Fury Road (2015)</th>\n",
       "      <th>In &amp; Out (1997)</th>\n",
       "      <th>Big Daddy (1999)</th>\n",
       "      <th>Dark City (1998)</th>\n",
       "    </tr>\n",
       "  </thead>\n",
       "  <tbody>\n",
       "    <tr>\n",
       "      <th>6</th>\n",
       "      <td>2</td>\n",
       "      <td></td>\n",
       "      <td></td>\n",
       "      <td>3</td>\n",
       "      <td></td>\n",
       "      <td>3</td>\n",
       "      <td>4</td>\n",
       "      <td>4</td>\n",
       "      <td></td>\n",
       "      <td>5</td>\n",
       "      <td>...</td>\n",
       "      <td>3</td>\n",
       "      <td>3</td>\n",
       "      <td></td>\n",
       "      <td>4</td>\n",
       "      <td></td>\n",
       "      <td></td>\n",
       "      <td></td>\n",
       "      <td>2</td>\n",
       "      <td>2</td>\n",
       "      <td>3</td>\n",
       "    </tr>\n",
       "    <tr>\n",
       "      <th>1</th>\n",
       "      <td>5</td>\n",
       "      <td>2</td>\n",
       "      <td>5</td>\n",
       "      <td>5</td>\n",
       "      <td>4</td>\n",
       "      <td>5</td>\n",
       "      <td>4</td>\n",
       "      <td></td>\n",
       "      <td>1</td>\n",
       "      <td>3</td>\n",
       "      <td>...</td>\n",
       "      <td></td>\n",
       "      <td></td>\n",
       "      <td></td>\n",
       "      <td></td>\n",
       "      <td></td>\n",
       "      <td></td>\n",
       "      <td></td>\n",
       "      <td></td>\n",
       "      <td></td>\n",
       "      <td></td>\n",
       "    </tr>\n",
       "    <tr>\n",
       "      <th>7</th>\n",
       "      <td></td>\n",
       "      <td></td>\n",
       "      <td></td>\n",
       "      <td>5</td>\n",
       "      <td></td>\n",
       "      <td>5</td>\n",
       "      <td></td>\n",
       "      <td></td>\n",
       "      <td></td>\n",
       "      <td></td>\n",
       "      <td>...</td>\n",
       "      <td>3</td>\n",
       "      <td></td>\n",
       "      <td>3</td>\n",
       "      <td></td>\n",
       "      <td>5</td>\n",
       "      <td></td>\n",
       "      <td></td>\n",
       "      <td></td>\n",
       "      <td></td>\n",
       "      <td></td>\n",
       "    </tr>\n",
       "    <tr>\n",
       "      <th>18</th>\n",
       "      <td>3</td>\n",
       "      <td>4</td>\n",
       "      <td>3.5</td>\n",
       "      <td></td>\n",
       "      <td>3.5</td>\n",
       "      <td></td>\n",
       "      <td>3</td>\n",
       "      <td>3</td>\n",
       "      <td></td>\n",
       "      <td></td>\n",
       "      <td>...</td>\n",
       "      <td></td>\n",
       "      <td></td>\n",
       "      <td></td>\n",
       "      <td></td>\n",
       "      <td></td>\n",
       "      <td>2.5</td>\n",
       "      <td>3</td>\n",
       "      <td></td>\n",
       "      <td></td>\n",
       "      <td></td>\n",
       "    </tr>\n",
       "    <tr>\n",
       "      <th>2</th>\n",
       "      <td>5</td>\n",
       "      <td></td>\n",
       "      <td></td>\n",
       "      <td>3</td>\n",
       "      <td>5</td>\n",
       "      <td></td>\n",
       "      <td></td>\n",
       "      <td>4.5</td>\n",
       "      <td>4.5</td>\n",
       "      <td>3</td>\n",
       "      <td>...</td>\n",
       "      <td></td>\n",
       "      <td></td>\n",
       "      <td>1</td>\n",
       "      <td></td>\n",
       "      <td>4.5</td>\n",
       "      <td></td>\n",
       "      <td></td>\n",
       "      <td></td>\n",
       "      <td></td>\n",
       "      <td></td>\n",
       "    </tr>\n",
       "  </tbody>\n",
       "</table>\n",
       "<p>5 rows × 300 columns</p>\n",
       "</div>"
      ],
      "text/plain": [
       "   Forrest Gump (1994) Pulp Fiction (1994) Shawshank Redemption, The (1994)  \\\n",
       "6                    2                                                        \n",
       "1                    5                   2                                5   \n",
       "7                                                                             \n",
       "18                   3                   4                              3.5   \n",
       "2                    5                                                        \n",
       "\n",
       "   Aladdin (1992) Silence of the Lambs, The (1991) Lion King, The (1994)  \\\n",
       "6               3                                                      3   \n",
       "1               5                                4                     5   \n",
       "7               5                                                      5   \n",
       "18                                             3.5                         \n",
       "2               3                                5                         \n",
       "\n",
       "   Twelve Monkeys (a.k.a. 12 Monkeys) (1995) Toy Story (1995)  \\\n",
       "6                                          4                4   \n",
       "1                                          4                    \n",
       "7                                                               \n",
       "18                                         3                3   \n",
       "2                                                         4.5   \n",
       "\n",
       "   Usual Suspects, The (1995) Batman (1989)       ...        Frequency (2000)  \\\n",
       "6                                         5       ...                       3   \n",
       "1                           1             3       ...                           \n",
       "7                                                 ...                       3   \n",
       "18                                                ...                           \n",
       "2                         4.5             3       ...                           \n",
       "\n",
       "   Sister Act (1992) Planet of the Apes (2001) Fisher King, The (1991)  \\\n",
       "6                  3                                                 4   \n",
       "1                                                                        \n",
       "7                                            3                           \n",
       "18                                                                       \n",
       "2                                            1                           \n",
       "\n",
       "   Chicago (2002) Skyfall (2012) Mad Max: Fury Road (2015) In & Out (1997)  \\\n",
       "6                                                                        2   \n",
       "1                                                                            \n",
       "7               5                                                            \n",
       "18                           2.5                         3                   \n",
       "2             4.5                                                            \n",
       "\n",
       "   Big Daddy (1999) Dark City (1998)  \n",
       "6                 2                3  \n",
       "1                                     \n",
       "7                                     \n",
       "18                                    \n",
       "2                                     \n",
       "\n",
       "[5 rows x 300 columns]"
      ]
     },
     "execution_count": 88,
     "metadata": {},
     "output_type": "execute_result"
    }
   ],
   "source": [
    "cluster.fillna('').head()"
   ]
  },
  {
   "cell_type": "code",
   "execution_count": 89,
   "metadata": {},
   "outputs": [
    {
     "data": {
      "text/plain": [
       "4.0"
      ]
     },
     "execution_count": 89,
     "metadata": {},
     "output_type": "execute_result"
    }
   ],
   "source": [
    "# TODO: Fill in the name of the column/movie. e.g. 'Forrest Gump (1994)'\n",
    "# Pick a movie from the table above since we're looking at a subset\n",
    "movie_name = \"Dark Knight, The (2008)\"\n",
    "\n",
    "cluster[movie_name].mean()"
   ]
  },
  {
   "cell_type": "code",
   "execution_count": 90,
   "metadata": {},
   "outputs": [
    {
     "data": {
      "text/plain": [
       "Forrest Gump (1994)                          4.000000\n",
       "Pulp Fiction (1994)                          3.500000\n",
       "Shawshank Redemption, The (1994)             4.100000\n",
       "Aladdin (1992)                               4.100000\n",
       "Silence of the Lambs, The (1991)             4.312500\n",
       "Lion King, The (1994)                        4.125000\n",
       "Twelve Monkeys (a.k.a. 12 Monkeys) (1995)    3.562500\n",
       "Toy Story (1995)                             3.812500\n",
       "Usual Suspects, The (1995)                   4.125000\n",
       "Batman (1989)                                3.500000\n",
       "Apollo 13 (1995)                             4.071429\n",
       "2001: A Space Odyssey (1968)                 3.500000\n",
       "While You Were Sleeping (1995)               3.857143\n",
       "Beauty and the Beast (1991)                  4.214286\n",
       "Mask, The (1994)                             3.285714\n",
       "Fugitive, The (1993)                         4.428571\n",
       "Die Hard: With a Vengeance (1995)            3.571429\n",
       "Braveheart (1995)                            4.714286\n",
       "Batman Forever (1995)                        2.833333\n",
       "L.A. Confidential (1997)                     3.750000\n",
       "dtype: float64"
      ]
     },
     "execution_count": 90,
     "metadata": {},
     "output_type": "execute_result"
    }
   ],
   "source": [
    "cluster.mean().head(20)"
   ]
  },
  {
   "cell_type": "code",
   "execution_count": 91,
   "metadata": {},
   "outputs": [
    {
     "data": {
      "text/plain": [
       "Muppet Movie, The (1979)                                5.000000\n",
       "Princess Bride, The (1987)                              5.000000\n",
       "Saving Private Ryan (1998)                              4.833333\n",
       "Chicago (2002)                                          4.750000\n",
       "E.T. the Extra-Terrestrial (1982)                       4.700000\n",
       "Psycho (1960)                                           4.666667\n",
       "Dead Man Walking (1995)                                 4.666667\n",
       "Emma (1996)                                             4.666667\n",
       "Who Framed Roger Rabbit? (1988)                         4.666667\n",
       "Star Wars: Episode IV - A New Hope (1977)               4.600000\n",
       "Billy Elliot (2000)                                     4.500000\n",
       "Despicable Me (2010)                                    4.500000\n",
       "Spirited Away (Sen to Chihiro no kamikakushi) (2001)    4.500000\n",
       "Congo (1995)                                            4.500000\n",
       "Goonies, The (1985)                                     4.500000\n",
       "South Park: Bigger, Longer and Uncut (1999)             4.500000\n",
       "Lord of the Rings: The Two Towers, The (2002)           4.500000\n",
       "Love Actually (2003)                                    4.500000\n",
       "Beautiful Mind, A (2001)                                4.500000\n",
       "King's Speech, The (2010)                               4.500000\n",
       "Name: 0, dtype: float64"
      ]
     },
     "execution_count": 91,
     "metadata": {},
     "output_type": "execute_result"
    }
   ],
   "source": [
    "user_id = 5\n",
    "\n",
    "# Get all this user's ratings\n",
    "user_2_ratings  = cluster.loc[user_id, :]\n",
    "\n",
    "# Which movies did they not rate? (We don't want to recommend movies they've already rated)\n",
    "user_2_unrated_movies =  user_2_ratings[user_2_ratings.isnull()]\n",
    "\n",
    "# What are the ratings of these movies the user did not rate?\n",
    "avg_ratings = pd.concat([user_2_unrated_movies, cluster.mean()], axis=1, join='inner').loc[:,0]\n",
    "\n",
    "# Let's sort by rating so the highest rated movies are presented first\n",
    "avg_ratings.sort_values(ascending=False)[:20]"
   ]
  },
  {
   "cell_type": "code",
   "execution_count": null,
   "metadata": {},
   "outputs": [],
   "source": []
  }
 ],
 "metadata": {
  "kernelspec": {
   "display_name": "Python 3",
   "language": "python",
   "name": "python3"
  },
  "language_info": {
   "codemirror_mode": {
    "name": "ipython",
    "version": 3
   },
   "file_extension": ".py",
   "mimetype": "text/x-python",
   "name": "python",
   "nbconvert_exporter": "python",
   "pygments_lexer": "ipython3",
   "version": "3.7.0"
  }
 },
 "nbformat": 4,
 "nbformat_minor": 2
}
